{
  "cells": [
    {
      "cell_type": "markdown",
      "metadata": {
        "id": "view-in-github",
        "colab_type": "text"
      },
      "source": [
        "<a href=\"https://colab.research.google.com/github/michelle-manfrini/Forest-Cover-Classification/blob/main/Forest_Cover_Classification.ipynb\" target=\"_parent\"><img src=\"https://colab.research.google.com/assets/colab-badge.svg\" alt=\"Open In Colab\"/></a>"
      ]
    },
    {
      "cell_type": "markdown",
      "metadata": {
        "id": "gWICk7XmbtNY"
      },
      "source": [
        "**Forest Cover Classification**"
      ]
    },
    {
      "cell_type": "markdown",
      "metadata": {
        "id": "Gq0q-ppyeecT"
      },
      "source": [
        "The goal of this prpject was to build a deep learning model that predicts the type of forest cover types based on different cartographic variables."
      ]
    },
    {
      "cell_type": "code",
      "execution_count": 18,
      "metadata": {
        "colab": {
          "base_uri": "https://localhost:8080/"
        },
        "id": "HJy93GlPVUf6",
        "outputId": "347aab9b-8a51-4194-f297-584500963119"
      },
      "outputs": [
        {
          "output_type": "stream",
          "name": "stdout",
          "text": [
            "Requirement already satisfied: sweetviz in /usr/local/lib/python3.10/dist-packages (2.2.1)\n",
            "Requirement already satisfied: pandas!=1.0.0,!=1.0.1,!=1.0.2,>=0.25.3 in /usr/local/lib/python3.10/dist-packages (from sweetviz) (1.5.3)\n",
            "Requirement already satisfied: numpy>=1.16.0 in /usr/local/lib/python3.10/dist-packages (from sweetviz) (1.23.5)\n",
            "Requirement already satisfied: matplotlib>=3.1.3 in /usr/local/lib/python3.10/dist-packages (from sweetviz) (3.7.1)\n",
            "Requirement already satisfied: tqdm>=4.43.0 in /usr/local/lib/python3.10/dist-packages (from sweetviz) (4.66.1)\n",
            "Requirement already satisfied: scipy>=1.3.2 in /usr/local/lib/python3.10/dist-packages (from sweetviz) (1.11.2)\n",
            "Requirement already satisfied: jinja2>=2.11.1 in /usr/local/lib/python3.10/dist-packages (from sweetviz) (3.1.2)\n",
            "Requirement already satisfied: importlib-resources>=1.2.0 in /usr/local/lib/python3.10/dist-packages (from sweetviz) (6.0.1)\n",
            "Requirement already satisfied: MarkupSafe>=2.0 in /usr/local/lib/python3.10/dist-packages (from jinja2>=2.11.1->sweetviz) (2.1.3)\n",
            "Requirement already satisfied: contourpy>=1.0.1 in /usr/local/lib/python3.10/dist-packages (from matplotlib>=3.1.3->sweetviz) (1.1.0)\n",
            "Requirement already satisfied: cycler>=0.10 in /usr/local/lib/python3.10/dist-packages (from matplotlib>=3.1.3->sweetviz) (0.11.0)\n",
            "Requirement already satisfied: fonttools>=4.22.0 in /usr/local/lib/python3.10/dist-packages (from matplotlib>=3.1.3->sweetviz) (4.42.1)\n",
            "Requirement already satisfied: kiwisolver>=1.0.1 in /usr/local/lib/python3.10/dist-packages (from matplotlib>=3.1.3->sweetviz) (1.4.5)\n",
            "Requirement already satisfied: packaging>=20.0 in /usr/local/lib/python3.10/dist-packages (from matplotlib>=3.1.3->sweetviz) (23.1)\n",
            "Requirement already satisfied: pillow>=6.2.0 in /usr/local/lib/python3.10/dist-packages (from matplotlib>=3.1.3->sweetviz) (9.4.0)\n",
            "Requirement already satisfied: pyparsing>=2.3.1 in /usr/local/lib/python3.10/dist-packages (from matplotlib>=3.1.3->sweetviz) (3.1.1)\n",
            "Requirement already satisfied: python-dateutil>=2.7 in /usr/local/lib/python3.10/dist-packages (from matplotlib>=3.1.3->sweetviz) (2.8.2)\n",
            "Requirement already satisfied: pytz>=2020.1 in /usr/local/lib/python3.10/dist-packages (from pandas!=1.0.0,!=1.0.1,!=1.0.2,>=0.25.3->sweetviz) (2023.3.post1)\n",
            "Requirement already satisfied: six>=1.5 in /usr/local/lib/python3.10/dist-packages (from python-dateutil>=2.7->matplotlib>=3.1.3->sweetviz) (1.16.0)\n"
          ]
        }
      ],
      "source": [
        "!pip install sweetviz"
      ]
    },
    {
      "cell_type": "code",
      "execution_count": 20,
      "metadata": {
        "id": "0-UqI0F1ZfNM"
      },
      "outputs": [],
      "source": [
        "import pandas as pd\n",
        "import numpy as np\n",
        "import os\n",
        "\n",
        "from sklearn.preprocessing import StandardScaler\n",
        "from sklearn.model_selection import train_test_split\n",
        "import tensorflow as tf\n",
        "from tensorflow import keras\n",
        "from tensorflow.keras import layers\n",
        "import matplotlib.pyplot as plt\n",
        "import seaborn as sns\n",
        "import sweetviz as sv\n",
        "from tensorflow.keras.callbacks import EarlyStopping\n",
        "\n",
        "from sklearn.metrics import confusion_matrix\n",
        "from sklearn.metrics import classification_report"
      ]
    },
    {
      "cell_type": "code",
      "execution_count": 21,
      "metadata": {
        "id": "P-c3bYnsZtcu"
      },
      "outputs": [],
      "source": [
        "tf.get_logger().setLevel('ERROR')\n",
        "\n",
        "os.environ['CUDA_VISIBLE_DEVICES'] = '-1'\n",
        "os.environ[\"TF_CPP_MIN_LOG_LEVEL\"] = '2'"
      ]
    },
    {
      "cell_type": "code",
      "execution_count": 36,
      "metadata": {
        "colab": {
          "base_uri": "https://localhost:8080/",
          "height": 74
        },
        "id": "WD4XXhWOfmJN",
        "outputId": "d632ecb6-1fe4-45eb-a047-b834bd14eca1"
      },
      "outputs": [
        {
          "output_type": "display_data",
          "data": {
            "text/plain": [
              "<IPython.core.display.HTML object>"
            ],
            "text/html": [
              "\n",
              "     <input type=\"file\" id=\"files-cf5b450d-959a-405b-887b-4140e7373957\" name=\"files[]\" multiple disabled\n",
              "        style=\"border:none\" />\n",
              "     <output id=\"result-cf5b450d-959a-405b-887b-4140e7373957\">\n",
              "      Upload widget is only available when the cell has been executed in the\n",
              "      current browser session. Please rerun this cell to enable.\n",
              "      </output>\n",
              "      <script>// Copyright 2017 Google LLC\n",
              "//\n",
              "// Licensed under the Apache License, Version 2.0 (the \"License\");\n",
              "// you may not use this file except in compliance with the License.\n",
              "// You may obtain a copy of the License at\n",
              "//\n",
              "//      http://www.apache.org/licenses/LICENSE-2.0\n",
              "//\n",
              "// Unless required by applicable law or agreed to in writing, software\n",
              "// distributed under the License is distributed on an \"AS IS\" BASIS,\n",
              "// WITHOUT WARRANTIES OR CONDITIONS OF ANY KIND, either express or implied.\n",
              "// See the License for the specific language governing permissions and\n",
              "// limitations under the License.\n",
              "\n",
              "/**\n",
              " * @fileoverview Helpers for google.colab Python module.\n",
              " */\n",
              "(function(scope) {\n",
              "function span(text, styleAttributes = {}) {\n",
              "  const element = document.createElement('span');\n",
              "  element.textContent = text;\n",
              "  for (const key of Object.keys(styleAttributes)) {\n",
              "    element.style[key] = styleAttributes[key];\n",
              "  }\n",
              "  return element;\n",
              "}\n",
              "\n",
              "// Max number of bytes which will be uploaded at a time.\n",
              "const MAX_PAYLOAD_SIZE = 100 * 1024;\n",
              "\n",
              "function _uploadFiles(inputId, outputId) {\n",
              "  const steps = uploadFilesStep(inputId, outputId);\n",
              "  const outputElement = document.getElementById(outputId);\n",
              "  // Cache steps on the outputElement to make it available for the next call\n",
              "  // to uploadFilesContinue from Python.\n",
              "  outputElement.steps = steps;\n",
              "\n",
              "  return _uploadFilesContinue(outputId);\n",
              "}\n",
              "\n",
              "// This is roughly an async generator (not supported in the browser yet),\n",
              "// where there are multiple asynchronous steps and the Python side is going\n",
              "// to poll for completion of each step.\n",
              "// This uses a Promise to block the python side on completion of each step,\n",
              "// then passes the result of the previous step as the input to the next step.\n",
              "function _uploadFilesContinue(outputId) {\n",
              "  const outputElement = document.getElementById(outputId);\n",
              "  const steps = outputElement.steps;\n",
              "\n",
              "  const next = steps.next(outputElement.lastPromiseValue);\n",
              "  return Promise.resolve(next.value.promise).then((value) => {\n",
              "    // Cache the last promise value to make it available to the next\n",
              "    // step of the generator.\n",
              "    outputElement.lastPromiseValue = value;\n",
              "    return next.value.response;\n",
              "  });\n",
              "}\n",
              "\n",
              "/**\n",
              " * Generator function which is called between each async step of the upload\n",
              " * process.\n",
              " * @param {string} inputId Element ID of the input file picker element.\n",
              " * @param {string} outputId Element ID of the output display.\n",
              " * @return {!Iterable<!Object>} Iterable of next steps.\n",
              " */\n",
              "function* uploadFilesStep(inputId, outputId) {\n",
              "  const inputElement = document.getElementById(inputId);\n",
              "  inputElement.disabled = false;\n",
              "\n",
              "  const outputElement = document.getElementById(outputId);\n",
              "  outputElement.innerHTML = '';\n",
              "\n",
              "  const pickedPromise = new Promise((resolve) => {\n",
              "    inputElement.addEventListener('change', (e) => {\n",
              "      resolve(e.target.files);\n",
              "    });\n",
              "  });\n",
              "\n",
              "  const cancel = document.createElement('button');\n",
              "  inputElement.parentElement.appendChild(cancel);\n",
              "  cancel.textContent = 'Cancel upload';\n",
              "  const cancelPromise = new Promise((resolve) => {\n",
              "    cancel.onclick = () => {\n",
              "      resolve(null);\n",
              "    };\n",
              "  });\n",
              "\n",
              "  // Wait for the user to pick the files.\n",
              "  const files = yield {\n",
              "    promise: Promise.race([pickedPromise, cancelPromise]),\n",
              "    response: {\n",
              "      action: 'starting',\n",
              "    }\n",
              "  };\n",
              "\n",
              "  cancel.remove();\n",
              "\n",
              "  // Disable the input element since further picks are not allowed.\n",
              "  inputElement.disabled = true;\n",
              "\n",
              "  if (!files) {\n",
              "    return {\n",
              "      response: {\n",
              "        action: 'complete',\n",
              "      }\n",
              "    };\n",
              "  }\n",
              "\n",
              "  for (const file of files) {\n",
              "    const li = document.createElement('li');\n",
              "    li.append(span(file.name, {fontWeight: 'bold'}));\n",
              "    li.append(span(\n",
              "        `(${file.type || 'n/a'}) - ${file.size} bytes, ` +\n",
              "        `last modified: ${\n",
              "            file.lastModifiedDate ? file.lastModifiedDate.toLocaleDateString() :\n",
              "                                    'n/a'} - `));\n",
              "    const percent = span('0% done');\n",
              "    li.appendChild(percent);\n",
              "\n",
              "    outputElement.appendChild(li);\n",
              "\n",
              "    const fileDataPromise = new Promise((resolve) => {\n",
              "      const reader = new FileReader();\n",
              "      reader.onload = (e) => {\n",
              "        resolve(e.target.result);\n",
              "      };\n",
              "      reader.readAsArrayBuffer(file);\n",
              "    });\n",
              "    // Wait for the data to be ready.\n",
              "    let fileData = yield {\n",
              "      promise: fileDataPromise,\n",
              "      response: {\n",
              "        action: 'continue',\n",
              "      }\n",
              "    };\n",
              "\n",
              "    // Use a chunked sending to avoid message size limits. See b/62115660.\n",
              "    let position = 0;\n",
              "    do {\n",
              "      const length = Math.min(fileData.byteLength - position, MAX_PAYLOAD_SIZE);\n",
              "      const chunk = new Uint8Array(fileData, position, length);\n",
              "      position += length;\n",
              "\n",
              "      const base64 = btoa(String.fromCharCode.apply(null, chunk));\n",
              "      yield {\n",
              "        response: {\n",
              "          action: 'append',\n",
              "          file: file.name,\n",
              "          data: base64,\n",
              "        },\n",
              "      };\n",
              "\n",
              "      let percentDone = fileData.byteLength === 0 ?\n",
              "          100 :\n",
              "          Math.round((position / fileData.byteLength) * 100);\n",
              "      percent.textContent = `${percentDone}% done`;\n",
              "\n",
              "    } while (position < fileData.byteLength);\n",
              "  }\n",
              "\n",
              "  // All done.\n",
              "  yield {\n",
              "    response: {\n",
              "      action: 'complete',\n",
              "    }\n",
              "  };\n",
              "}\n",
              "\n",
              "scope.google = scope.google || {};\n",
              "scope.google.colab = scope.google.colab || {};\n",
              "scope.google.colab._files = {\n",
              "  _uploadFiles,\n",
              "  _uploadFilesContinue,\n",
              "};\n",
              "})(self);\n",
              "</script> "
            ]
          },
          "metadata": {}
        },
        {
          "output_type": "stream",
          "name": "stdout",
          "text": [
            "Saving cover_data.csv to cover_data (3).csv\n"
          ]
        }
      ],
      "source": [
        "from google.colab import files\n",
        "\n",
        "uploaded = files.upload()\n"
      ]
    },
    {
      "cell_type": "code",
      "execution_count": 23,
      "metadata": {
        "id": "Ng8ARcaseu1k"
      },
      "outputs": [],
      "source": [
        "def prep_data(raw_df):\n",
        "\n",
        "    raw_data = raw_df.values\n",
        "    X, y = raw_data[:, :-1], raw_data[:, -1]\n",
        "\n",
        "\n",
        "    X_train, X_test, y_train, y_test = train_test_split(X, y, test_size=0.20, random_state=42, stratify=y)\n",
        "\n",
        "    scaler = StandardScaler()\n",
        "    X_train_normalized = scaler.fit_transform(X_train)\n",
        "    X_test_normalized = scaler.transform(X_test)\n",
        "\n",
        "    return X_train_normalized, X_test_normalized, y_train, y_test"
      ]
    },
    {
      "cell_type": "code",
      "execution_count": 27,
      "metadata": {
        "id": "8Ieip3XWe1HX"
      },
      "outputs": [],
      "source": [
        "def build_model(num_features):\n",
        "\n",
        "    classifier = keras.Sequential()\n",
        "    classifier.add(layers.Dense(64, input_dim=num_features, activation='relu'))\n",
        "    classifier.add(layers.Dense(32, activation='relu'))\n",
        "    classifier.add(layers.Dense(8, activation='softmax'))\n",
        "    classifier.compile(optimizer='adam', loss='sparse_categorical_crossentropy', metrics=['accuracy'])\n",
        "    return classifier"
      ]
    },
    {
      "cell_type": "code",
      "execution_count": 44,
      "metadata": {
        "id": "xAtMiWZqe5Eb"
      },
      "outputs": [],
      "source": [
        "def plot_heatmap(class_names, y_pred, y_test):\n",
        "\n",
        "    cm = confusion_matrix(y_test, y_pred)\n",
        "    fig, ax = plt.subplots(figsize=(15, 15))\n",
        "    heatmap = sns.heatmap(cm, fmt='g', cmap='Blues', annot=True, ax=ax)\n",
        "    ax.set_xlabel('Predicted class')\n",
        "    ax.set_ylabel('True class')\n",
        "    ax.set_title('Confusion Matrix')\n",
        "    ax.xaxis.set_ticklabels(class_names)\n",
        "    ax.yaxis.set_ticklabels(class_names)\n",
        "\n",
        "    heatmapfig = heatmap.get_figure()\n",
        "    heatmapfig.savefig('heatmap.png')\n"
      ]
    },
    {
      "cell_type": "code",
      "execution_count": 46,
      "metadata": {
        "id": "KeVSAP9xe8iO"
      },
      "outputs": [],
      "source": [
        "def plot_history(history, param):\n",
        "\n",
        "    if param == 'acc':\n",
        "        plt.plot(history.history['accuracy'])\n",
        "        plt.plot(history.history['val_accuracy'])\n",
        "        plt.title('model accuracy')\n",
        "        plt.ylabel('accuracy')\n",
        "        plt.xlabel('epoch')\n",
        "        plt.legend(['train', 'val'], loc='upper left')\n",
        "        plt.show()\n",
        "    elif param == 'loss':\n",
        "        plt.plot(history.history['loss'])\n",
        "        plt.plot(history.history['val_loss'])\n",
        "        plt.title('model loss')\n",
        "        plt.ylabel('loss')\n",
        "        plt.xlabel('epoch')\n",
        "        plt.legend(['train', 'val'], loc='upper right')\n",
        "        plt.show()"
      ]
    },
    {
      "cell_type": "code",
      "execution_count": 49,
      "metadata": {
        "id": "3oR4YPKCfEOM"
      },
      "outputs": [],
      "source": [
        "def main():\n",
        "\n",
        "  import io\n",
        "  raw_df = pd.read_csv(io.BytesIO(uploaded['cover_data (3).csv']))\n",
        "\n",
        "  # Exploratory Data Analysis - additional 10 minutes to run if desired\n",
        "  my_report = sv.analyze(raw_df)\n",
        "  my_report.show_html()\n",
        "\n",
        "  cols = raw_df.columns.tolist()\n",
        "  features, label = cols[:-1], cols[-1]\n",
        "  X_train, X_test, y_train, y_test = prep_data(raw_df)\n",
        "\n",
        "  num_features = len(features)\n",
        "  model = build_model(num_features)\n",
        "\n",
        "  print(\"Summary report of Keras classifier:\")\n",
        "  model.summary()\n",
        "\n",
        "  num_epochs = 100\n",
        "  batch_size = 1024\n",
        "  earlystop_callback = EarlyStopping(monitor='val_accuracy', min_delta=0.0001, patience=3)\n",
        "  history = model.fit(X_train,\n",
        "                        y_train,\n",
        "                        epochs=num_epochs,\n",
        "                        batch_size=batch_size,\n",
        "                        callbacks=[earlystop_callback],\n",
        "                        validation_split=0.1,\n",
        "                        verbose=1)\n",
        "\n",
        "  plot_history(history, 'acc')\n",
        "  plot_history(history, 'loss')\n",
        "\n",
        "  score = model.evaluate(X_test, y_test, verbose=0)\n",
        "  print(f'Test loss: {score[0]}')\n",
        "  print(f'Test accuracy: {score[1]}')\n",
        "\n",
        "  y_pred = model.predict(X_test)\n",
        "\n",
        "  y_pred = np.argmax(y_pred, axis=1)\n",
        "  class_names = ['Spruce/Fir', 'Lodgepole Pine',\n",
        "                   'Ponderosa Pine', 'Cottonwood/Willow',\n",
        "                   'Aspen', 'Douglas-fir', 'Krummholz']\n",
        "  print(classification_report(y_test, y_pred, target_names=class_names))\n",
        "  plot_heatmap(class_names, y_pred, y_test)"
      ]
    },
    {
      "cell_type": "code",
      "execution_count": 50,
      "metadata": {
        "colab": {
          "base_uri": "https://localhost:8080/",
          "height": 1000,
          "referenced_widgets": [
            "18c3f599e198425eb67fa2b9ee3ad248",
            "8bc17975f9414cddbbc0f9439ff31a9e",
            "982e43c0afd4404eab5a449f5ff1a6e1",
            "72a76d276b6f4524b64d6a53e380988e",
            "696628a093d04b6697389fa73294135b",
            "2789adbc6bd344d4a13579ea19e68229",
            "9552c4c48e8e4e96b69996eb8cc5f584",
            "d9a9beb53a83451c99a2dd3138b0e99f",
            "60283dd9e84b45b8add54f5511524676",
            "67cdce95e83a4a7a93708f1f12c906bf",
            "fd4152cc2c094058a89907287c30cd8e"
          ]
        },
        "id": "etgeSx6ufIsn",
        "outputId": "0a6e9a33-da27-4827-fbc7-37a103dab3d3"
      },
      "outputs": [
        {
          "output_type": "display_data",
          "data": {
            "text/plain": [
              "                                             |          | [  0%]   00:00 -> (? left)"
            ],
            "application/vnd.jupyter.widget-view+json": {
              "version_major": 2,
              "version_minor": 0,
              "model_id": "18c3f599e198425eb67fa2b9ee3ad248"
            }
          },
          "metadata": {}
        },
        {
          "output_type": "stream",
          "name": "stdout",
          "text": [
            "Report SWEETVIZ_REPORT.html was generated! NOTEBOOK/COLAB USERS: the web browser MAY not pop up, regardless, the report IS saved in your notebook/colab files.\n",
            "Summary report of Keras classifier:\n",
            "Model: \"sequential_2\"\n",
            "_________________________________________________________________\n",
            " Layer (type)                Output Shape              Param #   \n",
            "=================================================================\n",
            " dense_6 (Dense)             (None, 64)                3520      \n",
            "                                                                 \n",
            " dense_7 (Dense)             (None, 32)                2080      \n",
            "                                                                 \n",
            " dense_8 (Dense)             (None, 8)                 264       \n",
            "                                                                 \n",
            "=================================================================\n",
            "Total params: 5864 (22.91 KB)\n",
            "Trainable params: 5864 (22.91 KB)\n",
            "Non-trainable params: 0 (0.00 Byte)\n",
            "_________________________________________________________________\n",
            "Epoch 1/100\n",
            "409/409 [==============================] - 2s 4ms/step - loss: 0.7883 - accuracy: 0.6880 - val_loss: 0.6066 - val_accuracy: 0.7426\n",
            "Epoch 2/100\n",
            "409/409 [==============================] - 1s 3ms/step - loss: 0.5816 - accuracy: 0.7527 - val_loss: 0.5613 - val_accuracy: 0.7610\n",
            "Epoch 3/100\n",
            "409/409 [==============================] - 1s 3ms/step - loss: 0.5441 - accuracy: 0.7672 - val_loss: 0.5283 - val_accuracy: 0.7750\n",
            "Epoch 4/100\n",
            "409/409 [==============================] - 1s 3ms/step - loss: 0.5184 - accuracy: 0.7773 - val_loss: 0.5070 - val_accuracy: 0.7837\n",
            "Epoch 5/100\n",
            "409/409 [==============================] - 1s 3ms/step - loss: 0.4986 - accuracy: 0.7866 - val_loss: 0.4901 - val_accuracy: 0.7902\n",
            "Epoch 6/100\n",
            "409/409 [==============================] - 1s 3ms/step - loss: 0.4833 - accuracy: 0.7931 - val_loss: 0.4773 - val_accuracy: 0.7963\n",
            "Epoch 7/100\n",
            "409/409 [==============================] - 1s 3ms/step - loss: 0.4697 - accuracy: 0.7996 - val_loss: 0.4667 - val_accuracy: 0.8007\n",
            "Epoch 8/100\n",
            "409/409 [==============================] - 1s 3ms/step - loss: 0.4595 - accuracy: 0.8049 - val_loss: 0.4560 - val_accuracy: 0.8052\n",
            "Epoch 9/100\n",
            "409/409 [==============================] - 1s 3ms/step - loss: 0.4500 - accuracy: 0.8095 - val_loss: 0.4471 - val_accuracy: 0.8098\n",
            "Epoch 10/100\n",
            "409/409 [==============================] - 2s 4ms/step - loss: 0.4418 - accuracy: 0.8136 - val_loss: 0.4399 - val_accuracy: 0.8142\n",
            "Epoch 11/100\n",
            "409/409 [==============================] - 1s 3ms/step - loss: 0.4339 - accuracy: 0.8183 - val_loss: 0.4326 - val_accuracy: 0.8174\n",
            "Epoch 12/100\n",
            "409/409 [==============================] - 1s 3ms/step - loss: 0.4277 - accuracy: 0.8211 - val_loss: 0.4273 - val_accuracy: 0.8199\n",
            "Epoch 13/100\n",
            "409/409 [==============================] - 1s 3ms/step - loss: 0.4225 - accuracy: 0.8236 - val_loss: 0.4250 - val_accuracy: 0.8228\n",
            "Epoch 14/100\n",
            "409/409 [==============================] - 1s 3ms/step - loss: 0.4171 - accuracy: 0.8261 - val_loss: 0.4180 - val_accuracy: 0.8253\n",
            "Epoch 15/100\n",
            "409/409 [==============================] - 1s 3ms/step - loss: 0.4129 - accuracy: 0.8282 - val_loss: 0.4115 - val_accuracy: 0.8289\n",
            "Epoch 16/100\n",
            "409/409 [==============================] - 1s 3ms/step - loss: 0.4082 - accuracy: 0.8302 - val_loss: 0.4096 - val_accuracy: 0.8280\n",
            "Epoch 17/100\n",
            "409/409 [==============================] - 1s 3ms/step - loss: 0.4045 - accuracy: 0.8324 - val_loss: 0.4052 - val_accuracy: 0.8309\n",
            "Epoch 18/100\n",
            "409/409 [==============================] - 1s 3ms/step - loss: 0.4012 - accuracy: 0.8339 - val_loss: 0.4011 - val_accuracy: 0.8342\n",
            "Epoch 19/100\n",
            "409/409 [==============================] - 2s 4ms/step - loss: 0.3974 - accuracy: 0.8355 - val_loss: 0.4020 - val_accuracy: 0.8333\n",
            "Epoch 20/100\n",
            "409/409 [==============================] - 1s 3ms/step - loss: 0.3951 - accuracy: 0.8367 - val_loss: 0.3998 - val_accuracy: 0.8335\n",
            "Epoch 21/100\n",
            "409/409 [==============================] - 1s 3ms/step - loss: 0.3922 - accuracy: 0.8373 - val_loss: 0.3929 - val_accuracy: 0.8386\n",
            "Epoch 22/100\n",
            "409/409 [==============================] - 1s 3ms/step - loss: 0.3890 - accuracy: 0.8396 - val_loss: 0.3901 - val_accuracy: 0.8370\n",
            "Epoch 23/100\n",
            "409/409 [==============================] - 1s 3ms/step - loss: 0.3869 - accuracy: 0.8402 - val_loss: 0.3871 - val_accuracy: 0.8386\n",
            "Epoch 24/100\n",
            "409/409 [==============================] - 1s 3ms/step - loss: 0.3839 - accuracy: 0.8413 - val_loss: 0.3902 - val_accuracy: 0.8378\n"
          ]
        },
        {
          "output_type": "display_data",
          "data": {
            "text/plain": [
              "<Figure size 640x480 with 1 Axes>"
            ],
            "image/png": "[encoded data removed]"
          },
          "metadata": {}
        },
        {
          "output_type": "display_data",
          "data": {
            "text/plain": [
              "<Figure size 640x480 with 1 Axes>"
            ],
            "image/png": "[encoded data removed]"
          },
          "metadata": {}
        },
        {
          "output_type": "stream",
          "name": "stdout",
          "text": [
            "Test loss: 0.3910006880760193\n",
            "Test accuracy: 0.839496374130249\n",
            "3632/3632 [==============================] - 4s 1ms/step\n",
            "                   precision    recall  f1-score   support\n",
            "\n",
            "       Spruce/Fir       0.88      0.78      0.83     42368\n",
            "   Lodgepole Pine       0.83      0.92      0.87     56661\n",
            "   Ponderosa Pine       0.79      0.83      0.81      7151\n",
            "Cottonwood/Willow       0.78      0.62      0.69       549\n",
            "            Aspen       0.72      0.39      0.50      1899\n",
            "      Douglas-fir       0.68      0.55      0.61      3473\n",
            "        Krummholz       0.90      0.81      0.85      4102\n",
            "\n",
            "         accuracy                           0.84    116203\n",
            "        macro avg       0.80      0.70      0.74    116203\n",
            "     weighted avg       0.84      0.84      0.84    116203\n",
            "\n"
          ]
        },
        {
          "output_type": "display_data",
          "data": {
            "text/plain": [
              "<Figure size 1500x1500 with 2 Axes>"
            ],
            "image/png": "[encoded data removed]"
          },
          "metadata": {}
        }
      ],
      "source": [
        "if __name__ == '__main__':\n",
        "    main()"
      ]
    },
    {
      "cell_type": "markdown",
      "source": [
        "The purpose of the heatmap is to show the number of correct classifications on the diagonal. The incorrect classifications are shown on the sides of the diagonal, revealing that Cottonwood Willow, Aspen, Lodgepole Pine, and Douglas-Fir have the highest percentage.\n",
        "\n"
      ],
      "metadata": {
        "id": "5fXaf34SUASa"
      }
    }
  ],
  "metadata": {
    "colab": {
      "provenance": [],
      "authorship_tag": "ABX9TyM7QuA7taCRaWuBVhcU8DI7",
      "include_colab_link": true
    },
    "kernelspec": {
      "display_name": "Python 3",
      "name": "python3"
    },
    "language_info": {
      "name": "python"
    },
    "widgets": {
      "application/vnd.jupyter.widget-state+json": {
        "18c3f599e198425eb67fa2b9ee3ad248": {
          "model_module": "@jupyter-widgets/controls",
          "model_name": "HBoxModel",
          "model_module_version": "1.5.0",
          "state": {
            "_dom_classes": [],
            "_model_module": "@jupyter-widgets/controls",
            "_model_module_version": "1.5.0",
            "_model_name": "HBoxModel",
            "_view_count": null,
            "_view_module": "@jupyter-widgets/controls",
            "_view_module_version": "1.5.0",
            "_view_name": "HBoxView",
            "box_style": "",
            "children": [
              "IPY_MODEL_8bc17975f9414cddbbc0f9439ff31a9e",
              "IPY_MODEL_982e43c0afd4404eab5a449f5ff1a6e1",
              "IPY_MODEL_72a76d276b6f4524b64d6a53e380988e"
            ],
            "layout": "IPY_MODEL_696628a093d04b6697389fa73294135b"
          }
        },
        "8bc17975f9414cddbbc0f9439ff31a9e": {
          "model_module": "@jupyter-widgets/controls",
          "model_name": "HTMLModel",
          "model_module_version": "1.5.0",
          "state": {
            "_dom_classes": [],
            "_model_module": "@jupyter-widgets/controls",
            "_model_module_version": "1.5.0",
            "_model_name": "HTMLModel",
            "_view_count": null,
            "_view_module": "@jupyter-widgets/controls",
            "_view_module_version": "1.5.0",
            "_view_name": "HTMLView",
            "description": "",
            "description_tooltip": null,
            "layout": "IPY_MODEL_2789adbc6bd344d4a13579ea19e68229",
            "placeholder": "​",
            "style": "IPY_MODEL_9552c4c48e8e4e96b69996eb8cc5f584",
            "value": "Done! Use &#x27;show&#x27; commands to display/save.   "
          }
        },
        "982e43c0afd4404eab5a449f5ff1a6e1": {
          "model_module": "@jupyter-widgets/controls",
          "model_name": "FloatProgressModel",
          "model_module_version": "1.5.0",
          "state": {
            "_dom_classes": [],
            "_model_module": "@jupyter-widgets/controls",
            "_model_module_version": "1.5.0",
            "_model_name": "FloatProgressModel",
            "_view_count": null,
            "_view_module": "@jupyter-widgets/controls",
            "_view_module_version": "1.5.0",
            "_view_name": "ProgressView",
            "bar_style": "success",
            "description": "",
            "description_tooltip": null,
            "layout": "IPY_MODEL_d9a9beb53a83451c99a2dd3138b0e99f",
            "max": 1,
            "min": 0,
            "orientation": "horizontal",
            "style": "IPY_MODEL_60283dd9e84b45b8add54f5511524676",
            "value": 1
          }
        },
        "72a76d276b6f4524b64d6a53e380988e": {
          "model_module": "@jupyter-widgets/controls",
          "model_name": "HTMLModel",
          "model_module_version": "1.5.0",
          "state": {
            "_dom_classes": [],
            "_model_module": "@jupyter-widgets/controls",
            "_model_module_version": "1.5.0",
            "_model_name": "HTMLModel",
            "_view_count": null,
            "_view_module": "@jupyter-widgets/controls",
            "_view_module_version": "1.5.0",
            "_view_name": "HTMLView",
            "description": "",
            "description_tooltip": null,
            "layout": "IPY_MODEL_67cdce95e83a4a7a93708f1f12c906bf",
            "placeholder": "​",
            "style": "IPY_MODEL_fd4152cc2c094058a89907287c30cd8e",
            "value": " [100%]   00:03 -&gt; (00:00 left)"
          }
        },
        "696628a093d04b6697389fa73294135b": {
          "model_module": "@jupyter-widgets/base",
          "model_name": "LayoutModel",
          "model_module_version": "1.2.0",
          "state": {
            "_model_module": "@jupyter-widgets/base",
            "_model_module_version": "1.2.0",
            "_model_name": "LayoutModel",
            "_view_count": null,
            "_view_module": "@jupyter-widgets/base",
            "_view_module_version": "1.2.0",
            "_view_name": "LayoutView",
            "align_content": null,
            "align_items": null,
            "align_self": null,
            "border": null,
            "bottom": null,
            "display": "inline-flex",
            "flex": null,
            "flex_flow": "row wrap",
            "grid_area": null,
            "grid_auto_columns": null,
            "grid_auto_flow": null,
            "grid_auto_rows": null,
            "grid_column": null,
            "grid_gap": null,
            "grid_row": null,
            "grid_template_areas": null,
            "grid_template_columns": null,
            "grid_template_rows": null,
            "height": null,
            "justify_content": null,
            "justify_items": null,
            "left": null,
            "margin": null,
            "max_height": null,
            "max_width": null,
            "min_height": null,
            "min_width": null,
            "object_fit": null,
            "object_position": null,
            "order": null,
            "overflow": null,
            "overflow_x": null,
            "overflow_y": null,
            "padding": null,
            "right": null,
            "top": null,
            "visibility": null,
            "width": "100%"
          }
        },
        "2789adbc6bd344d4a13579ea19e68229": {
          "model_module": "@jupyter-widgets/base",
          "model_name": "LayoutModel",
          "model_module_version": "1.2.0",
          "state": {
            "_model_module": "@jupyter-widgets/base",
            "_model_module_version": "1.2.0",
            "_model_name": "LayoutModel",
            "_view_count": null,
            "_view_module": "@jupyter-widgets/base",
            "_view_module_version": "1.2.0",
            "_view_name": "LayoutView",
            "align_content": null,
            "align_items": null,
            "align_self": null,
            "border": null,
            "bottom": null,
            "display": null,
            "flex": null,
            "flex_flow": null,
            "grid_area": null,
            "grid_auto_columns": null,
            "grid_auto_flow": null,
            "grid_auto_rows": null,
            "grid_column": null,
            "grid_gap": null,
            "grid_row": null,
            "grid_template_areas": null,
            "grid_template_columns": null,
            "grid_template_rows": null,
            "height": null,
            "justify_content": null,
            "justify_items": null,
            "left": null,
            "margin": null,
            "max_height": null,
            "max_width": null,
            "min_height": null,
            "min_width": null,
            "object_fit": null,
            "object_position": null,
            "order": null,
            "overflow": null,
            "overflow_x": null,
            "overflow_y": null,
            "padding": null,
            "right": null,
            "top": null,
            "visibility": null,
            "width": null
          }
        },
        "9552c4c48e8e4e96b69996eb8cc5f584": {
          "model_module": "@jupyter-widgets/controls",
          "model_name": "DescriptionStyleModel",
          "model_module_version": "1.5.0",
          "state": {
            "_model_module": "@jupyter-widgets/controls",
            "_model_module_version": "1.5.0",
            "_model_name": "DescriptionStyleModel",
            "_view_count": null,
            "_view_module": "@jupyter-widgets/base",
            "_view_module_version": "1.2.0",
            "_view_name": "StyleView",
            "description_width": ""
          }
        },
        "d9a9beb53a83451c99a2dd3138b0e99f": {
          "model_module": "@jupyter-widgets/base",
          "model_name": "LayoutModel",
          "model_module_version": "1.2.0",
          "state": {
            "_model_module": "@jupyter-widgets/base",
            "_model_module_version": "1.2.0",
            "_model_name": "LayoutModel",
            "_view_count": null,
            "_view_module": "@jupyter-widgets/base",
            "_view_module_version": "1.2.0",
            "_view_name": "LayoutView",
            "align_content": null,
            "align_items": null,
            "align_self": null,
            "border": null,
            "bottom": null,
            "display": null,
            "flex": "2",
            "flex_flow": null,
            "grid_area": null,
            "grid_auto_columns": null,
            "grid_auto_flow": null,
            "grid_auto_rows": null,
            "grid_column": null,
            "grid_gap": null,
            "grid_row": null,
            "grid_template_areas": null,
            "grid_template_columns": null,
            "grid_template_rows": null,
            "height": null,
            "justify_content": null,
            "justify_items": null,
            "left": null,
            "margin": null,
            "max_height": null,
            "max_width": null,
            "min_height": null,
            "min_width": null,
            "object_fit": null,
            "object_position": null,
            "order": null,
            "overflow": null,
            "overflow_x": null,
            "overflow_y": null,
            "padding": null,
            "right": null,
            "top": null,
            "visibility": null,
            "width": null
          }
        },
        "60283dd9e84b45b8add54f5511524676": {
          "model_module": "@jupyter-widgets/controls",
          "model_name": "ProgressStyleModel",
          "model_module_version": "1.5.0",
          "state": {
            "_model_module": "@jupyter-widgets/controls",
            "_model_module_version": "1.5.0",
            "_model_name": "ProgressStyleModel",
            "_view_count": null,
            "_view_module": "@jupyter-widgets/base",
            "_view_module_version": "1.2.0",
            "_view_name": "StyleView",
            "bar_color": null,
            "description_width": ""
          }
        },
        "67cdce95e83a4a7a93708f1f12c906bf": {
          "model_module": "@jupyter-widgets/base",
          "model_name": "LayoutModel",
          "model_module_version": "1.2.0",
          "state": {
            "_model_module": "@jupyter-widgets/base",
            "_model_module_version": "1.2.0",
            "_model_name": "LayoutModel",
            "_view_count": null,
            "_view_module": "@jupyter-widgets/base",
            "_view_module_version": "1.2.0",
            "_view_name": "LayoutView",
            "align_content": null,
            "align_items": null,
            "align_self": null,
            "border": null,
            "bottom": null,
            "display": null,
            "flex": null,
            "flex_flow": null,
            "grid_area": null,
            "grid_auto_columns": null,
            "grid_auto_flow": null,
            "grid_auto_rows": null,
            "grid_column": null,
            "grid_gap": null,
            "grid_row": null,
            "grid_template_areas": null,
            "grid_template_columns": null,
            "grid_template_rows": null,
            "height": null,
            "justify_content": null,
            "justify_items": null,
            "left": null,
            "margin": null,
            "max_height": null,
            "max_width": null,
            "min_height": null,
            "min_width": null,
            "object_fit": null,
            "object_position": null,
            "order": null,
            "overflow": null,
            "overflow_x": null,
            "overflow_y": null,
            "padding": null,
            "right": null,
            "top": null,
            "visibility": null,
            "width": null
          }
        },
        "fd4152cc2c094058a89907287c30cd8e": {
          "model_module": "@jupyter-widgets/controls",
          "model_name": "DescriptionStyleModel",
          "model_module_version": "1.5.0",
          "state": {
            "_model_module": "@jupyter-widgets/controls",
            "_model_module_version": "1.5.0",
            "_model_name": "DescriptionStyleModel",
            "_view_count": null,
            "_view_module": "@jupyter-widgets/base",
            "_view_module_version": "1.2.0",
            "_view_name": "StyleView",
            "description_width": ""
          }
        }
      }
    }
  },
  "nbformat": 4,
  "nbformat_minor": 0
}